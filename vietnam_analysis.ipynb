{
 "cells": [
  {
   "cell_type": "code",
   "execution_count": 1,
   "metadata": {},
   "outputs": [],
   "source": [
    "import pandas as pd \n",
    "import numpy as np\n",
    "import matplotlib.pyplot as plt\n",
    "import seaborn as sns\n",
    "data = pd.read_csv('World Football Results 2018 to 2022 - data.csv')"
   ]
  },
  {
   "cell_type": "code",
   "execution_count": 31,
   "metadata": {},
   "outputs": [
    {
     "name": "stdout",
     "output_type": "stream",
     "text": [
      "<class 'pandas.core.frame.DataFrame'>\n",
      "RangeIndex: 4096 entries, 0 to 4095\n",
      "Data columns (total 11 columns):\n",
      " #   Column      Non-Null Count  Dtype \n",
      "---  ------      --------------  ----- \n",
      " 0   year        4096 non-null   int64 \n",
      " 1   date        4096 non-null   object\n",
      " 2   tournament  4096 non-null   object\n",
      " 3   h_team      4096 non-null   object\n",
      " 4   a_team      4096 non-null   object\n",
      " 5   h_elo       4096 non-null   int64 \n",
      " 6   a_elo       4096 non-null   int64 \n",
      " 7   h_score     4096 non-null   int64 \n",
      " 8   a_score     4096 non-null   int64 \n",
      " 9   location    4096 non-null   object\n",
      " 10  neutral     4096 non-null   object\n",
      "dtypes: int64(5), object(6)\n",
      "memory usage: 352.1+ KB\n"
     ]
    }
   ],
   "source": [
    "data.info()"
   ]
  },
  {
   "cell_type": "code",
   "execution_count": 3,
   "metadata": {},
   "outputs": [],
   "source": [
    "data = data.dropna(axis=1)"
   ]
  },
  {
   "cell_type": "code",
   "execution_count": null,
   "metadata": {},
   "outputs": [],
   "source": [
    "data.isnull().sum()"
   ]
  },
  {
   "cell_type": "code",
   "execution_count": 5,
   "metadata": {},
   "outputs": [],
   "source": [
    "vietnam = data[(data['a_team'] == 'Vietnam') | (data['h_team'] == 'Vietnam')]"
   ]
  },
  {
   "cell_type": "code",
   "execution_count": null,
   "metadata": {},
   "outputs": [],
   "source": [
    "vietnam"
   ]
  },
  {
   "cell_type": "code",
   "execution_count": 7,
   "metadata": {},
   "outputs": [
    {
     "data": {
      "text/plain": [
       "year          38\n",
       "date          38\n",
       "tournament    38\n",
       "h_team        38\n",
       "a_team        38\n",
       "h_elo         38\n",
       "a_elo         38\n",
       "h_score       38\n",
       "a_score       38\n",
       "location      38\n",
       "neutral       38\n",
       "dtype: int64"
      ]
     },
     "execution_count": 7,
     "metadata": {},
     "output_type": "execute_result"
    }
   ],
   "source": [
    "vietnam.count()"
   ]
  },
  {
   "cell_type": "code",
   "execution_count": 29,
   "metadata": {},
   "outputs": [
    {
     "data": {
      "text/plain": [
       "Southeast Asian Championship         9\n",
       "World Cup qualifier                  8\n",
       "World Cup and Asian Cup qualifier    6\n",
       "Friendly                             5\n",
       "Asian Cup                            5\n",
       "King's Cup                           2\n",
       "Friendly tournament                  2\n",
       "Asian Cup qualifier                  1\n",
       "Name: tournament, dtype: int64"
      ]
     },
     "execution_count": 29,
     "metadata": {},
     "output_type": "execute_result"
    }
   ],
   "source": [
    "vietnam['tournament'].value_counts()"
   ]
  },
  {
   "attachments": {},
   "cell_type": "markdown",
   "metadata": {},
   "source": [
    "Count number of matches that Vietnam vs Singapore"
   ]
  },
  {
   "cell_type": "code",
   "execution_count": 8,
   "metadata": {},
   "outputs": [
    {
     "data": {
      "text/html": [
       "<div>\n",
       "<style scoped>\n",
       "    .dataframe tbody tr th:only-of-type {\n",
       "        vertical-align: middle;\n",
       "    }\n",
       "\n",
       "    .dataframe tbody tr th {\n",
       "        vertical-align: top;\n",
       "    }\n",
       "\n",
       "    .dataframe thead th {\n",
       "        text-align: right;\n",
       "    }\n",
       "</style>\n",
       "<table border=\"1\" class=\"dataframe\">\n",
       "  <thead>\n",
       "    <tr style=\"text-align: right;\">\n",
       "      <th></th>\n",
       "      <th>year</th>\n",
       "      <th>date</th>\n",
       "      <th>tournament</th>\n",
       "      <th>h_team</th>\n",
       "      <th>a_team</th>\n",
       "      <th>h_elo</th>\n",
       "      <th>a_elo</th>\n",
       "      <th>h_score</th>\n",
       "      <th>a_score</th>\n",
       "      <th>location</th>\n",
       "      <th>neutral</th>\n",
       "    </tr>\n",
       "  </thead>\n",
       "  <tbody>\n",
       "  </tbody>\n",
       "</table>\n",
       "</div>"
      ],
      "text/plain": [
       "Empty DataFrame\n",
       "Columns: [year, date, tournament, h_team, a_team, h_elo, a_elo, h_score, a_score, location, neutral]\n",
       "Index: []"
      ]
     },
     "execution_count": 8,
     "metadata": {},
     "output_type": "execute_result"
    }
   ],
   "source": [
    "vietnam[(vietnam['a_team']=='Vietnam') & (vietnam['h_team']=='Singapore')]"
   ]
  },
  {
   "cell_type": "code",
   "execution_count": 9,
   "metadata": {},
   "outputs": [
    {
     "data": {
      "text/html": [
       "<div>\n",
       "<style scoped>\n",
       "    .dataframe tbody tr th:only-of-type {\n",
       "        vertical-align: middle;\n",
       "    }\n",
       "\n",
       "    .dataframe tbody tr th {\n",
       "        vertical-align: top;\n",
       "    }\n",
       "\n",
       "    .dataframe thead th {\n",
       "        text-align: right;\n",
       "    }\n",
       "</style>\n",
       "<table border=\"1\" class=\"dataframe\">\n",
       "  <thead>\n",
       "    <tr style=\"text-align: right;\">\n",
       "      <th></th>\n",
       "      <th>year</th>\n",
       "      <th>date</th>\n",
       "      <th>tournament</th>\n",
       "      <th>h_team</th>\n",
       "      <th>a_team</th>\n",
       "      <th>h_elo</th>\n",
       "      <th>a_elo</th>\n",
       "      <th>h_score</th>\n",
       "      <th>a_score</th>\n",
       "      <th>location</th>\n",
       "      <th>neutral</th>\n",
       "    </tr>\n",
       "  </thead>\n",
       "  <tbody>\n",
       "    <tr>\n",
       "      <th>3767</th>\n",
       "      <td>2022</td>\n",
       "      <td>September 21</td>\n",
       "      <td>Friendly tournament</td>\n",
       "      <td>Vietnam</td>\n",
       "      <td>Singapore</td>\n",
       "      <td>1374</td>\n",
       "      <td>1124</td>\n",
       "      <td>4</td>\n",
       "      <td>0</td>\n",
       "      <td>in Vietnam</td>\n",
       "      <td>No</td>\n",
       "    </tr>\n",
       "  </tbody>\n",
       "</table>\n",
       "</div>"
      ],
      "text/plain": [
       "      year          date           tournament   h_team     a_team  h_elo  \\\n",
       "3767  2022  September 21  Friendly tournament  Vietnam  Singapore   1374   \n",
       "\n",
       "      a_elo  h_score  a_score    location neutral  \n",
       "3767   1124        4        0  in Vietnam      No  "
      ]
     },
     "execution_count": 9,
     "metadata": {},
     "output_type": "execute_result"
    }
   ],
   "source": [
    "vietnam[(vietnam['a_team']=='Singapore') & (vietnam['h_team']=='Vietnam')]"
   ]
  },
  {
   "cell_type": "markdown",
   "metadata": {},
   "source": [
    "There is only 1 match that Vietnam versuses Singapore, and Vietnam win"
   ]
  },
  {
   "cell_type": "code",
   "execution_count": 32,
   "metadata": {},
   "outputs": [],
   "source": [
    "vietnam_aff = vietnam[vietnam['tournament'] == 'Southeast Asian Championship']"
   ]
  },
  {
   "cell_type": "code",
   "execution_count": 11,
   "metadata": {},
   "outputs": [
    {
     "data": {
      "text/html": [
       "<div>\n",
       "<style scoped>\n",
       "    .dataframe tbody tr th:only-of-type {\n",
       "        vertical-align: middle;\n",
       "    }\n",
       "\n",
       "    .dataframe tbody tr th {\n",
       "        vertical-align: top;\n",
       "    }\n",
       "\n",
       "    .dataframe thead th {\n",
       "        text-align: right;\n",
       "    }\n",
       "</style>\n",
       "<table border=\"1\" class=\"dataframe\">\n",
       "  <thead>\n",
       "    <tr style=\"text-align: right;\">\n",
       "      <th></th>\n",
       "      <th>year</th>\n",
       "      <th>date</th>\n",
       "      <th>tournament</th>\n",
       "      <th>h_team</th>\n",
       "      <th>a_team</th>\n",
       "      <th>h_elo</th>\n",
       "      <th>a_elo</th>\n",
       "      <th>h_score</th>\n",
       "      <th>a_score</th>\n",
       "      <th>location</th>\n",
       "      <th>neutral</th>\n",
       "    </tr>\n",
       "  </thead>\n",
       "  <tbody>\n",
       "    <tr>\n",
       "      <th>709</th>\n",
       "      <td>2018</td>\n",
       "      <td>November 8</td>\n",
       "      <td>Southeast Asian Championship</td>\n",
       "      <td>Laos</td>\n",
       "      <td>Vietnam</td>\n",
       "      <td>730</td>\n",
       "      <td>1285</td>\n",
       "      <td>0</td>\n",
       "      <td>3</td>\n",
       "      <td>in Laos</td>\n",
       "      <td>No</td>\n",
       "    </tr>\n",
       "    <tr>\n",
       "      <th>764</th>\n",
       "      <td>2018</td>\n",
       "      <td>November 16</td>\n",
       "      <td>Southeast Asian Championship</td>\n",
       "      <td>Vietnam</td>\n",
       "      <td>Malaysia</td>\n",
       "      <td>1290</td>\n",
       "      <td>1084</td>\n",
       "      <td>2</td>\n",
       "      <td>0</td>\n",
       "      <td>in Vietnam</td>\n",
       "      <td>No</td>\n",
       "    </tr>\n",
       "    <tr>\n",
       "      <th>847</th>\n",
       "      <td>2018</td>\n",
       "      <td>November 20</td>\n",
       "      <td>Southeast Asian Championship</td>\n",
       "      <td>Myanmar</td>\n",
       "      <td>Vietnam</td>\n",
       "      <td>1076</td>\n",
       "      <td>1299</td>\n",
       "      <td>0</td>\n",
       "      <td>0</td>\n",
       "      <td>in Myanmar</td>\n",
       "      <td>No</td>\n",
       "    </tr>\n",
       "    <tr>\n",
       "      <th>863</th>\n",
       "      <td>2018</td>\n",
       "      <td>November 24</td>\n",
       "      <td>Southeast Asian Championship</td>\n",
       "      <td>Vietnam</td>\n",
       "      <td>Cambodia</td>\n",
       "      <td>1292</td>\n",
       "      <td>794</td>\n",
       "      <td>3</td>\n",
       "      <td>0</td>\n",
       "      <td>in Vietnam</td>\n",
       "      <td>No</td>\n",
       "    </tr>\n",
       "    <tr>\n",
       "      <th>867</th>\n",
       "      <td>2018</td>\n",
       "      <td>December 2</td>\n",
       "      <td>Southeast Asian Championship</td>\n",
       "      <td>Philippines</td>\n",
       "      <td>Vietnam</td>\n",
       "      <td>1210</td>\n",
       "      <td>1294</td>\n",
       "      <td>1</td>\n",
       "      <td>2</td>\n",
       "      <td>in the Philippines</td>\n",
       "      <td>No</td>\n",
       "    </tr>\n",
       "    <tr>\n",
       "      <th>869</th>\n",
       "      <td>2018</td>\n",
       "      <td>December 6</td>\n",
       "      <td>Southeast Asian Championship</td>\n",
       "      <td>Vietnam</td>\n",
       "      <td>Philippines</td>\n",
       "      <td>1315</td>\n",
       "      <td>1189</td>\n",
       "      <td>2</td>\n",
       "      <td>1</td>\n",
       "      <td>in Vietnam</td>\n",
       "      <td>No</td>\n",
       "    </tr>\n",
       "    <tr>\n",
       "      <th>870</th>\n",
       "      <td>2018</td>\n",
       "      <td>December 11</td>\n",
       "      <td>Southeast Asian Championship</td>\n",
       "      <td>Malaysia</td>\n",
       "      <td>Vietnam</td>\n",
       "      <td>1128</td>\n",
       "      <td>1324</td>\n",
       "      <td>2</td>\n",
       "      <td>2</td>\n",
       "      <td>in Malaysia</td>\n",
       "      <td>No</td>\n",
       "    </tr>\n",
       "    <tr>\n",
       "      <th>872</th>\n",
       "      <td>2018</td>\n",
       "      <td>December 15</td>\n",
       "      <td>Southeast Asian Championship</td>\n",
       "      <td>Vietnam</td>\n",
       "      <td>Malaysia</td>\n",
       "      <td>1319</td>\n",
       "      <td>1133</td>\n",
       "      <td>1</td>\n",
       "      <td>0</td>\n",
       "      <td>in Vietnam</td>\n",
       "      <td>No</td>\n",
       "    </tr>\n",
       "    <tr>\n",
       "      <th>4088</th>\n",
       "      <td>2022</td>\n",
       "      <td>December 21</td>\n",
       "      <td>Southeast Asian Championship</td>\n",
       "      <td>Laos</td>\n",
       "      <td>Vietnam</td>\n",
       "      <td>653</td>\n",
       "      <td>1393</td>\n",
       "      <td>0</td>\n",
       "      <td>6</td>\n",
       "      <td>in Laos</td>\n",
       "      <td>No</td>\n",
       "    </tr>\n",
       "  </tbody>\n",
       "</table>\n",
       "</div>"
      ],
      "text/plain": [
       "      year         date                    tournament       h_team  \\\n",
       "709   2018   November 8  Southeast Asian Championship         Laos   \n",
       "764   2018  November 16  Southeast Asian Championship      Vietnam   \n",
       "847   2018  November 20  Southeast Asian Championship      Myanmar   \n",
       "863   2018  November 24  Southeast Asian Championship      Vietnam   \n",
       "867   2018   December 2  Southeast Asian Championship  Philippines   \n",
       "869   2018   December 6  Southeast Asian Championship      Vietnam   \n",
       "870   2018  December 11  Southeast Asian Championship     Malaysia   \n",
       "872   2018  December 15  Southeast Asian Championship      Vietnam   \n",
       "4088  2022  December 21  Southeast Asian Championship         Laos   \n",
       "\n",
       "           a_team  h_elo  a_elo  h_score  a_score            location neutral  \n",
       "709       Vietnam    730   1285        0        3             in Laos      No  \n",
       "764      Malaysia   1290   1084        2        0          in Vietnam      No  \n",
       "847       Vietnam   1076   1299        0        0          in Myanmar      No  \n",
       "863      Cambodia   1292    794        3        0          in Vietnam      No  \n",
       "867       Vietnam   1210   1294        1        2  in the Philippines      No  \n",
       "869   Philippines   1315   1189        2        1          in Vietnam      No  \n",
       "870       Vietnam   1128   1324        2        2         in Malaysia      No  \n",
       "872      Malaysia   1319   1133        1        0          in Vietnam      No  \n",
       "4088      Vietnam    653   1393        0        6             in Laos      No  "
      ]
     },
     "execution_count": 11,
     "metadata": {},
     "output_type": "execute_result"
    }
   ],
   "source": [
    "vietnam_aff"
   ]
  },
  {
   "cell_type": "code",
   "execution_count": 12,
   "metadata": {},
   "outputs": [],
   "source": [
    "def winner(h_team, a_team, h_score, a_score):\n",
    "    if h_score > a_score:\n",
    "        return h_team\n",
    "    elif h_score == a_score:\n",
    "        return 'Draw'\n",
    "    else:\n",
    "        return a_team    "
   ]
  },
  {
   "cell_type": "code",
   "execution_count": null,
   "metadata": {},
   "outputs": [],
   "source": [
    "vietnam['winner'] = vietnam.apply(lambda x: winner(x['h_team'], x['a_team'], x['h_score'], x['a_score']), axis=1)"
   ]
  },
  {
   "cell_type": "markdown",
   "metadata": {},
   "source": [
    "Check 10 latest match"
   ]
  },
  {
   "cell_type": "code",
   "execution_count": 19,
   "metadata": {},
   "outputs": [],
   "source": [
    "viet_latest10 = vietnam.tail(10)"
   ]
  },
  {
   "cell_type": "code",
   "execution_count": 22,
   "metadata": {},
   "outputs": [
    {
     "data": {
      "text/html": [
       "<div>\n",
       "<style scoped>\n",
       "    .dataframe tbody tr th:only-of-type {\n",
       "        vertical-align: middle;\n",
       "    }\n",
       "\n",
       "    .dataframe tbody tr th {\n",
       "        vertical-align: top;\n",
       "    }\n",
       "\n",
       "    .dataframe thead th {\n",
       "        text-align: right;\n",
       "    }\n",
       "</style>\n",
       "<table border=\"1\" class=\"dataframe\">\n",
       "  <thead>\n",
       "    <tr style=\"text-align: right;\">\n",
       "      <th></th>\n",
       "      <th>year</th>\n",
       "      <th>date</th>\n",
       "      <th>tournament</th>\n",
       "      <th>h_team</th>\n",
       "      <th>a_team</th>\n",
       "      <th>h_elo</th>\n",
       "      <th>a_elo</th>\n",
       "      <th>h_score</th>\n",
       "      <th>a_score</th>\n",
       "      <th>location</th>\n",
       "      <th>neutral</th>\n",
       "      <th>winner</th>\n",
       "    </tr>\n",
       "  </thead>\n",
       "  <tbody>\n",
       "    <tr>\n",
       "      <th>3073</th>\n",
       "      <td>2021</td>\n",
       "      <td>October 12</td>\n",
       "      <td>World Cup qualifier</td>\n",
       "      <td>Oman</td>\n",
       "      <td>Vietnam</td>\n",
       "      <td>1505</td>\n",
       "      <td>1385</td>\n",
       "      <td>3</td>\n",
       "      <td>1</td>\n",
       "      <td>in Oman</td>\n",
       "      <td>No</td>\n",
       "      <td>Oman</td>\n",
       "    </tr>\n",
       "    <tr>\n",
       "      <th>3184</th>\n",
       "      <td>2022</td>\n",
       "      <td>January 27</td>\n",
       "      <td>World Cup qualifier</td>\n",
       "      <td>Australia</td>\n",
       "      <td>Vietnam</td>\n",
       "      <td>1733</td>\n",
       "      <td>1338</td>\n",
       "      <td>4</td>\n",
       "      <td>0</td>\n",
       "      <td>in Australia</td>\n",
       "      <td>No</td>\n",
       "      <td>Australia</td>\n",
       "    </tr>\n",
       "    <tr>\n",
       "      <th>3215</th>\n",
       "      <td>2022</td>\n",
       "      <td>February 1</td>\n",
       "      <td>World Cup qualifier</td>\n",
       "      <td>Vietnam</td>\n",
       "      <td>China</td>\n",
       "      <td>1334</td>\n",
       "      <td>1496</td>\n",
       "      <td>3</td>\n",
       "      <td>1</td>\n",
       "      <td>in Vietnam</td>\n",
       "      <td>No</td>\n",
       "      <td>Vietnam</td>\n",
       "    </tr>\n",
       "    <tr>\n",
       "      <th>3270</th>\n",
       "      <td>2022</td>\n",
       "      <td>March 24</td>\n",
       "      <td>World Cup qualifier</td>\n",
       "      <td>Vietnam</td>\n",
       "      <td>Oman</td>\n",
       "      <td>1369</td>\n",
       "      <td>1521</td>\n",
       "      <td>0</td>\n",
       "      <td>1</td>\n",
       "      <td>in Vietnam</td>\n",
       "      <td>No</td>\n",
       "      <td>Oman</td>\n",
       "    </tr>\n",
       "    <tr>\n",
       "      <th>3394</th>\n",
       "      <td>2022</td>\n",
       "      <td>March 29</td>\n",
       "      <td>World Cup qualifier</td>\n",
       "      <td>Japan</td>\n",
       "      <td>Vietnam</td>\n",
       "      <td>1814</td>\n",
       "      <td>1352</td>\n",
       "      <td>1</td>\n",
       "      <td>1</td>\n",
       "      <td>in Japan</td>\n",
       "      <td>No</td>\n",
       "      <td>Draw</td>\n",
       "    </tr>\n",
       "    <tr>\n",
       "      <th>3443</th>\n",
       "      <td>2022</td>\n",
       "      <td>June 1</td>\n",
       "      <td>Friendly</td>\n",
       "      <td>Vietnam</td>\n",
       "      <td>Afghanistan</td>\n",
       "      <td>1370</td>\n",
       "      <td>1142</td>\n",
       "      <td>2</td>\n",
       "      <td>0</td>\n",
       "      <td>in Vietnam</td>\n",
       "      <td>No</td>\n",
       "      <td>Vietnam</td>\n",
       "    </tr>\n",
       "    <tr>\n",
       "      <th>3767</th>\n",
       "      <td>2022</td>\n",
       "      <td>September 21</td>\n",
       "      <td>Friendly tournament</td>\n",
       "      <td>Vietnam</td>\n",
       "      <td>Singapore</td>\n",
       "      <td>1374</td>\n",
       "      <td>1124</td>\n",
       "      <td>4</td>\n",
       "      <td>0</td>\n",
       "      <td>in Vietnam</td>\n",
       "      <td>No</td>\n",
       "      <td>Vietnam</td>\n",
       "    </tr>\n",
       "    <tr>\n",
       "      <th>3869</th>\n",
       "      <td>2022</td>\n",
       "      <td>September 27</td>\n",
       "      <td>Friendly tournament</td>\n",
       "      <td>Vietnam</td>\n",
       "      <td>India</td>\n",
       "      <td>1381</td>\n",
       "      <td>1227</td>\n",
       "      <td>3</td>\n",
       "      <td>0</td>\n",
       "      <td>in Vietnam</td>\n",
       "      <td>No</td>\n",
       "      <td>Vietnam</td>\n",
       "    </tr>\n",
       "    <tr>\n",
       "      <th>4078</th>\n",
       "      <td>2022</td>\n",
       "      <td>December 14</td>\n",
       "      <td>Friendly</td>\n",
       "      <td>Vietnam</td>\n",
       "      <td>Philippines</td>\n",
       "      <td>1391</td>\n",
       "      <td>1095</td>\n",
       "      <td>1</td>\n",
       "      <td>0</td>\n",
       "      <td>in Vietnam</td>\n",
       "      <td>No</td>\n",
       "      <td>Vietnam</td>\n",
       "    </tr>\n",
       "    <tr>\n",
       "      <th>4088</th>\n",
       "      <td>2022</td>\n",
       "      <td>December 21</td>\n",
       "      <td>Southeast Asian Championship</td>\n",
       "      <td>Laos</td>\n",
       "      <td>Vietnam</td>\n",
       "      <td>653</td>\n",
       "      <td>1393</td>\n",
       "      <td>0</td>\n",
       "      <td>6</td>\n",
       "      <td>in Laos</td>\n",
       "      <td>No</td>\n",
       "      <td>Vietnam</td>\n",
       "    </tr>\n",
       "  </tbody>\n",
       "</table>\n",
       "</div>"
      ],
      "text/plain": [
       "      year          date                    tournament     h_team  \\\n",
       "3073  2021    October 12           World Cup qualifier       Oman   \n",
       "3184  2022    January 27           World Cup qualifier  Australia   \n",
       "3215  2022    February 1           World Cup qualifier    Vietnam   \n",
       "3270  2022      March 24           World Cup qualifier    Vietnam   \n",
       "3394  2022      March 29           World Cup qualifier      Japan   \n",
       "3443  2022        June 1                      Friendly    Vietnam   \n",
       "3767  2022  September 21           Friendly tournament    Vietnam   \n",
       "3869  2022  September 27           Friendly tournament    Vietnam   \n",
       "4078  2022   December 14                      Friendly    Vietnam   \n",
       "4088  2022   December 21  Southeast Asian Championship       Laos   \n",
       "\n",
       "           a_team  h_elo  a_elo  h_score  a_score      location neutral  \\\n",
       "3073      Vietnam   1505   1385        3        1       in Oman      No   \n",
       "3184      Vietnam   1733   1338        4        0  in Australia      No   \n",
       "3215        China   1334   1496        3        1    in Vietnam      No   \n",
       "3270         Oman   1369   1521        0        1    in Vietnam      No   \n",
       "3394      Vietnam   1814   1352        1        1      in Japan      No   \n",
       "3443  Afghanistan   1370   1142        2        0    in Vietnam      No   \n",
       "3767    Singapore   1374   1124        4        0    in Vietnam      No   \n",
       "3869        India   1381   1227        3        0    in Vietnam      No   \n",
       "4078  Philippines   1391   1095        1        0    in Vietnam      No   \n",
       "4088      Vietnam    653   1393        0        6       in Laos      No   \n",
       "\n",
       "         winner  \n",
       "3073       Oman  \n",
       "3184  Australia  \n",
       "3215    Vietnam  \n",
       "3270       Oman  \n",
       "3394       Draw  \n",
       "3443    Vietnam  \n",
       "3767    Vietnam  \n",
       "3869    Vietnam  \n",
       "4078    Vietnam  \n",
       "4088    Vietnam  "
      ]
     },
     "execution_count": 22,
     "metadata": {},
     "output_type": "execute_result"
    }
   ],
   "source": [
    "viet_latest10"
   ]
  },
  {
   "cell_type": "code",
   "execution_count": 23,
   "metadata": {},
   "outputs": [
    {
     "name": "stdout",
     "output_type": "stream",
     "text": [
      "<class 'pandas.core.frame.DataFrame'>\n",
      "Int64Index: 10 entries, 3073 to 4088\n",
      "Data columns (total 12 columns):\n",
      " #   Column      Non-Null Count  Dtype \n",
      "---  ------      --------------  ----- \n",
      " 0   year        10 non-null     int64 \n",
      " 1   date        10 non-null     object\n",
      " 2   tournament  10 non-null     object\n",
      " 3   h_team      10 non-null     object\n",
      " 4   a_team      10 non-null     object\n",
      " 5   h_elo       10 non-null     int64 \n",
      " 6   a_elo       10 non-null     int64 \n",
      " 7   h_score     10 non-null     int64 \n",
      " 8   a_score     10 non-null     int64 \n",
      " 9   location    10 non-null     object\n",
      " 10  neutral     10 non-null     object\n",
      " 11  winner      10 non-null     object\n",
      "dtypes: int64(5), object(7)\n",
      "memory usage: 1.3+ KB\n"
     ]
    }
   ],
   "source": [
    "viet_latest10.info()"
   ]
  },
  {
   "cell_type": "code",
   "execution_count": 25,
   "metadata": {},
   "outputs": [
    {
     "data": {
      "text/html": [
       "<div>\n",
       "<style scoped>\n",
       "    .dataframe tbody tr th:only-of-type {\n",
       "        vertical-align: middle;\n",
       "    }\n",
       "\n",
       "    .dataframe tbody tr th {\n",
       "        vertical-align: top;\n",
       "    }\n",
       "\n",
       "    .dataframe thead th {\n",
       "        text-align: right;\n",
       "    }\n",
       "</style>\n",
       "<table border=\"1\" class=\"dataframe\">\n",
       "  <thead>\n",
       "    <tr style=\"text-align: right;\">\n",
       "      <th></th>\n",
       "      <th>year</th>\n",
       "      <th>date</th>\n",
       "      <th>tournament</th>\n",
       "      <th>h_team</th>\n",
       "      <th>a_team</th>\n",
       "      <th>h_elo</th>\n",
       "      <th>a_elo</th>\n",
       "      <th>h_score</th>\n",
       "      <th>a_score</th>\n",
       "      <th>location</th>\n",
       "      <th>neutral</th>\n",
       "      <th>winner</th>\n",
       "    </tr>\n",
       "  </thead>\n",
       "  <tbody>\n",
       "    <tr>\n",
       "      <th>3215</th>\n",
       "      <td>2022</td>\n",
       "      <td>February 1</td>\n",
       "      <td>World Cup qualifier</td>\n",
       "      <td>Vietnam</td>\n",
       "      <td>China</td>\n",
       "      <td>1334</td>\n",
       "      <td>1496</td>\n",
       "      <td>3</td>\n",
       "      <td>1</td>\n",
       "      <td>in Vietnam</td>\n",
       "      <td>No</td>\n",
       "      <td>Vietnam</td>\n",
       "    </tr>\n",
       "    <tr>\n",
       "      <th>3443</th>\n",
       "      <td>2022</td>\n",
       "      <td>June 1</td>\n",
       "      <td>Friendly</td>\n",
       "      <td>Vietnam</td>\n",
       "      <td>Afghanistan</td>\n",
       "      <td>1370</td>\n",
       "      <td>1142</td>\n",
       "      <td>2</td>\n",
       "      <td>0</td>\n",
       "      <td>in Vietnam</td>\n",
       "      <td>No</td>\n",
       "      <td>Vietnam</td>\n",
       "    </tr>\n",
       "    <tr>\n",
       "      <th>3767</th>\n",
       "      <td>2022</td>\n",
       "      <td>September 21</td>\n",
       "      <td>Friendly tournament</td>\n",
       "      <td>Vietnam</td>\n",
       "      <td>Singapore</td>\n",
       "      <td>1374</td>\n",
       "      <td>1124</td>\n",
       "      <td>4</td>\n",
       "      <td>0</td>\n",
       "      <td>in Vietnam</td>\n",
       "      <td>No</td>\n",
       "      <td>Vietnam</td>\n",
       "    </tr>\n",
       "    <tr>\n",
       "      <th>3869</th>\n",
       "      <td>2022</td>\n",
       "      <td>September 27</td>\n",
       "      <td>Friendly tournament</td>\n",
       "      <td>Vietnam</td>\n",
       "      <td>India</td>\n",
       "      <td>1381</td>\n",
       "      <td>1227</td>\n",
       "      <td>3</td>\n",
       "      <td>0</td>\n",
       "      <td>in Vietnam</td>\n",
       "      <td>No</td>\n",
       "      <td>Vietnam</td>\n",
       "    </tr>\n",
       "    <tr>\n",
       "      <th>4078</th>\n",
       "      <td>2022</td>\n",
       "      <td>December 14</td>\n",
       "      <td>Friendly</td>\n",
       "      <td>Vietnam</td>\n",
       "      <td>Philippines</td>\n",
       "      <td>1391</td>\n",
       "      <td>1095</td>\n",
       "      <td>1</td>\n",
       "      <td>0</td>\n",
       "      <td>in Vietnam</td>\n",
       "      <td>No</td>\n",
       "      <td>Vietnam</td>\n",
       "    </tr>\n",
       "    <tr>\n",
       "      <th>4088</th>\n",
       "      <td>2022</td>\n",
       "      <td>December 21</td>\n",
       "      <td>Southeast Asian Championship</td>\n",
       "      <td>Laos</td>\n",
       "      <td>Vietnam</td>\n",
       "      <td>653</td>\n",
       "      <td>1393</td>\n",
       "      <td>0</td>\n",
       "      <td>6</td>\n",
       "      <td>in Laos</td>\n",
       "      <td>No</td>\n",
       "      <td>Vietnam</td>\n",
       "    </tr>\n",
       "  </tbody>\n",
       "</table>\n",
       "</div>"
      ],
      "text/plain": [
       "      year          date                    tournament   h_team       a_team  \\\n",
       "3215  2022    February 1           World Cup qualifier  Vietnam        China   \n",
       "3443  2022        June 1                      Friendly  Vietnam  Afghanistan   \n",
       "3767  2022  September 21           Friendly tournament  Vietnam    Singapore   \n",
       "3869  2022  September 27           Friendly tournament  Vietnam        India   \n",
       "4078  2022   December 14                      Friendly  Vietnam  Philippines   \n",
       "4088  2022   December 21  Southeast Asian Championship     Laos      Vietnam   \n",
       "\n",
       "      h_elo  a_elo  h_score  a_score    location neutral   winner  \n",
       "3215   1334   1496        3        1  in Vietnam      No  Vietnam  \n",
       "3443   1370   1142        2        0  in Vietnam      No  Vietnam  \n",
       "3767   1374   1124        4        0  in Vietnam      No  Vietnam  \n",
       "3869   1381   1227        3        0  in Vietnam      No  Vietnam  \n",
       "4078   1391   1095        1        0  in Vietnam      No  Vietnam  \n",
       "4088    653   1393        0        6     in Laos      No  Vietnam  "
      ]
     },
     "execution_count": 25,
     "metadata": {},
     "output_type": "execute_result"
    }
   ],
   "source": [
    "viet_latest10[viet_latest10['winner']=='Vietnam']"
   ]
  },
  {
   "cell_type": "code",
   "execution_count": 27,
   "metadata": {},
   "outputs": [
    {
     "data": {
      "text/plain": [
       "6"
      ]
     },
     "execution_count": 27,
     "metadata": {},
     "output_type": "execute_result"
    }
   ],
   "source": [
    "(viet_latest10['winner']=='Vietnam').sum()"
   ]
  },
  {
   "cell_type": "markdown",
   "metadata": {},
   "source": [
    "Vietnam wins 6/10 matches recently."
   ]
  },
  {
   "cell_type": "code",
   "execution_count": 28,
   "metadata": {},
   "outputs": [
    {
     "data": {
      "text/plain": [
       "21"
      ]
     },
     "execution_count": 28,
     "metadata": {},
     "output_type": "execute_result"
    }
   ],
   "source": [
    "goals_away = viet_latest10[viet_latest10['a_team']=='Vietnam']['a_score'].sum()\n",
    "goals_home = viet_latest10[viet_latest10['h_team']=='Vietnam']['h_score'].sum()\n",
    "total_goals = goals_home + goals_away\n",
    "total_goals"
   ]
  },
  {
   "attachments": {},
   "cell_type": "markdown",
   "metadata": {},
   "source": [
    "Vietnam scored 21 goals during 10 matches."
   ]
  },
  {
   "cell_type": "code",
   "execution_count": 30,
   "metadata": {},
   "outputs": [
    {
     "data": {
      "text/plain": [
       "10"
      ]
     },
     "execution_count": 30,
     "metadata": {},
     "output_type": "execute_result"
    }
   ],
   "source": [
    "conceded_away = viet_latest10[viet_latest10['a_team']=='Vietnam']['h_score'].sum()\n",
    "conceded_home = viet_latest10[viet_latest10['h_team']=='Vietnam']['a_score'].sum()\n",
    "total_conceded = conceded_home + conceded_away\n",
    "total_conceded"
   ]
  },
  {
   "cell_type": "markdown",
   "metadata": {},
   "source": [
    "\n",
    "Conceded 10 goals during 10 matches."
   ]
  }
 ],
 "metadata": {
  "kernelspec": {
   "display_name": "Python 3",
   "language": "python",
   "name": "python3"
  },
  "language_info": {
   "codemirror_mode": {
    "name": "ipython",
    "version": 3
   },
   "file_extension": ".py",
   "mimetype": "text/x-python",
   "name": "python",
   "nbconvert_exporter": "python",
   "pygments_lexer": "ipython3",
   "version": "3.10.9 (tags/v3.10.9:1dd9be6, Dec  6 2022, 20:01:21) [MSC v.1934 64 bit (AMD64)]"
  },
  "orig_nbformat": 4,
  "vscode": {
   "interpreter": {
    "hash": "e3a928b85d63b2ef9b6ccf12e8d329d0cbc7130b7b94533fcc116c9895f7d050"
   }
  }
 },
 "nbformat": 4,
 "nbformat_minor": 2
}
