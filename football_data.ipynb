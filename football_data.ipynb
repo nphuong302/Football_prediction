{
 "cells": [
  {
   "cell_type": "code",
   "execution_count": 70,
   "metadata": {},
   "outputs": [],
   "source": [
    "import pandas as pd \n",
    "import numpy as np\n",
    "import matplotlib.pyplot as plt\n",
    "from scipy.stats import poisson\n",
    "data = pd.read_csv('World Football Results 2018 to 2022 - data.csv')"
   ]
  },
  {
   "cell_type": "code",
   "execution_count": 71,
   "metadata": {},
   "outputs": [
    {
     "name": "stdout",
     "output_type": "stream",
     "text": [
      "<class 'pandas.core.frame.DataFrame'>\n",
      "RangeIndex: 4096 entries, 0 to 4095\n",
      "Data columns (total 23 columns):\n",
      " #   Column       Non-Null Count  Dtype  \n",
      "---  ------       --------------  -----  \n",
      " 0   year         4096 non-null   int64  \n",
      " 1   date         4096 non-null   object \n",
      " 2   tournament   4096 non-null   object \n",
      " 3   h_team       4096 non-null   object \n",
      " 4   a_team       4096 non-null   object \n",
      " 5   h_elo        4096 non-null   int64  \n",
      " 6   a_elo        4096 non-null   int64  \n",
      " 7   h_score      4096 non-null   int64  \n",
      " 8   a_score      4096 non-null   int64  \n",
      " 9   location     4096 non-null   object \n",
      " 10  neutral      4096 non-null   object \n",
      " 11  Unnamed: 11  0 non-null      float64\n",
      " 12  Unnamed: 12  0 non-null      float64\n",
      " 13  Unnamed: 13  0 non-null      float64\n",
      " 14  Unnamed: 14  0 non-null      float64\n",
      " 15  Unnamed: 15  0 non-null      float64\n",
      " 16  Unnamed: 16  0 non-null      float64\n",
      " 17  Unnamed: 17  0 non-null      float64\n",
      " 18  Unnamed: 18  0 non-null      float64\n",
      " 19  Unnamed: 19  0 non-null      float64\n",
      " 20  Unnamed: 20  0 non-null      float64\n",
      " 21  Unnamed: 21  0 non-null      float64\n",
      " 22  Unnamed: 22  4047 non-null   object \n",
      "dtypes: float64(11), int64(5), object(7)\n",
      "memory usage: 736.1+ KB\n"
     ]
    }
   ],
   "source": [
    "data.info()"
   ]
  },
  {
   "cell_type": "code",
   "execution_count": 72,
   "metadata": {},
   "outputs": [],
   "source": [
    "data = data.dropna(axis=1)"
   ]
  },
  {
   "cell_type": "code",
   "execution_count": 73,
   "metadata": {},
   "outputs": [
    {
     "data": {
      "text/plain": [
       "year          0\n",
       "date          0\n",
       "tournament    0\n",
       "h_team        0\n",
       "a_team        0\n",
       "h_elo         0\n",
       "a_elo         0\n",
       "h_score       0\n",
       "a_score       0\n",
       "location      0\n",
       "neutral       0\n",
       "dtype: int64"
      ]
     },
     "execution_count": 73,
     "metadata": {},
     "output_type": "execute_result"
    }
   ],
   "source": [
    "data.isnull().sum()"
   ]
  },
  {
   "cell_type": "code",
   "execution_count": 74,
   "metadata": {},
   "outputs": [
    {
     "data": {
      "text/plain": [
       "Friendly                                  1296\n",
       "World Cup qualifier                        579\n",
       "African Nations Cup qualifier              272\n",
       "European Championship qualifier            212\n",
       "European Nations League C                  142\n",
       "World Cup and Asian Cup qualifier          134\n",
       "Friendly tournament                        129\n",
       "World Cup                                  128\n",
       "European Nations League A                  119\n",
       "European Nations League B                  113\n",
       "African Nations Cup                        104\n",
       "COSAFA Cup                                  90\n",
       "European Nations League D                   84\n",
       "CONCACAF Nations League qualifier           68\n",
       "CONCACAF Championship                       62\n",
       "CONCACAF Nations League B                   62\n",
       "Copa América                                54\n",
       "Asian Cup qualifier                         53\n",
       "European Championship                       51\n",
       "Asian Cup                                   51\n",
       "CONCACAF Nations League C                   40\n",
       "Southeast Asian Championship                37\n",
       "CONCACAF Nations League A                   32\n",
       "South Asian Championship                    23\n",
       "Pacific Games                               22\n",
       "Bangabandhu Gold Cup                        18\n",
       "West Asian Championship                     17\n",
       "Indian Ocean Games                          13\n",
       "East Asian Championship qualifier           12\n",
       "King's Cup                                  12\n",
       "Windward Islands Championship               10\n",
       "Baltic Cup                                  10\n",
       "European Nations League                      8\n",
       "CONCACAF Championship qualifier              8\n",
       "East Asian Championship                      6\n",
       "Arab Nations Cup qualifier                   6\n",
       "Melanesian Cup                               6\n",
       "CONCACAF Nations League                      4\n",
       "Southeast Asian Championship qualifier       4\n",
       "Gulf Cup                                     3\n",
       "Intercontinental Championship                1\n",
       "World Football Cup                           1\n",
       "Name: tournament, dtype: int64"
      ]
     },
     "execution_count": 74,
     "metadata": {},
     "output_type": "execute_result"
    }
   ],
   "source": [
    "data['tournament'].value_counts()"
   ]
  },
  {
   "cell_type": "code",
   "execution_count": 75,
   "metadata": {},
   "outputs": [
    {
     "data": {
      "text/plain": [
       "Southeast Asian Championship              37\n",
       "South Asian Championship                  23\n",
       "West Asian Championship                   17\n",
       "East Asian Championship qualifier         12\n",
       "East Asian Championship                    6\n",
       "Southeast Asian Championship qualifier     4\n",
       "Name: tournament, dtype: int64"
      ]
     },
     "execution_count": 75,
     "metadata": {},
     "output_type": "execute_result"
    }
   ],
   "source": [
    "data[data['tournament'].str.contains('Asian Championship', case=False)]['tournament'].value_counts()"
   ]
  },
  {
   "cell_type": "code",
   "execution_count": 76,
   "metadata": {},
   "outputs": [],
   "source": [
    "data = data[(data['tournament'].str.contains('Southeast Asian Championship', case=False))] "
   ]
  },
  {
   "cell_type": "code",
   "execution_count": 77,
   "metadata": {},
   "outputs": [],
   "source": [
    "data_home = data[['h_team', 'h_score', 'a_score']]\n",
    "data_away = data[['a_team', 'h_score', 'a_score']]"
   ]
  },
  {
   "cell_type": "code",
   "execution_count": 78,
   "metadata": {},
   "outputs": [],
   "source": [
    "data_home = data_home.rename(columns={'h_team': 'Team', 'h_score': 'GoalsScored', 'a_score': 'GoalsConceded'})\n",
    "data_away = data_away.rename(columns={'a_team': 'Team', 'h_score': 'GoalsConceded', 'a_score': 'GoalsScored'})"
   ]
  },
  {
   "cell_type": "code",
   "execution_count": 79,
   "metadata": {},
   "outputs": [
    {
     "data": {
      "text/html": [
       "<div>\n",
       "<style scoped>\n",
       "    .dataframe tbody tr th:only-of-type {\n",
       "        vertical-align: middle;\n",
       "    }\n",
       "\n",
       "    .dataframe tbody tr th {\n",
       "        vertical-align: top;\n",
       "    }\n",
       "\n",
       "    .dataframe thead th {\n",
       "        text-align: right;\n",
       "    }\n",
       "</style>\n",
       "<table border=\"1\" class=\"dataframe\">\n",
       "  <thead>\n",
       "    <tr style=\"text-align: right;\">\n",
       "      <th></th>\n",
       "      <th>GoalsScored</th>\n",
       "      <th>GoalsConceded</th>\n",
       "    </tr>\n",
       "    <tr>\n",
       "      <th>Team</th>\n",
       "      <th></th>\n",
       "      <th></th>\n",
       "    </tr>\n",
       "  </thead>\n",
       "  <tbody>\n",
       "    <tr>\n",
       "      <th>Brunei</th>\n",
       "      <td>1.285714</td>\n",
       "      <td>3.285714</td>\n",
       "    </tr>\n",
       "    <tr>\n",
       "      <th>Cambodia</th>\n",
       "      <td>1.333333</td>\n",
       "      <td>2.166667</td>\n",
       "    </tr>\n",
       "    <tr>\n",
       "      <th>East Timor</th>\n",
       "      <td>1.250000</td>\n",
       "      <td>3.375000</td>\n",
       "    </tr>\n",
       "    <tr>\n",
       "      <th>Indonesia</th>\n",
       "      <td>2.285714</td>\n",
       "      <td>1.285714</td>\n",
       "    </tr>\n",
       "    <tr>\n",
       "      <th>Laos</th>\n",
       "      <td>0.500000</td>\n",
       "      <td>3.833333</td>\n",
       "    </tr>\n",
       "    <tr>\n",
       "      <th>Malaysia</th>\n",
       "      <td>1.700000</td>\n",
       "      <td>0.800000</td>\n",
       "    </tr>\n",
       "    <tr>\n",
       "      <th>Myanmar</th>\n",
       "      <td>1.500000</td>\n",
       "      <td>1.500000</td>\n",
       "    </tr>\n",
       "    <tr>\n",
       "      <th>Philippines</th>\n",
       "      <td>1.555556</td>\n",
       "      <td>1.666667</td>\n",
       "    </tr>\n",
       "    <tr>\n",
       "      <th>Singapore</th>\n",
       "      <td>2.000000</td>\n",
       "      <td>1.400000</td>\n",
       "    </tr>\n",
       "    <tr>\n",
       "      <th>Thailand</th>\n",
       "      <td>3.111111</td>\n",
       "      <td>0.777778</td>\n",
       "    </tr>\n",
       "    <tr>\n",
       "      <th>Vietnam</th>\n",
       "      <td>2.333333</td>\n",
       "      <td>0.444444</td>\n",
       "    </tr>\n",
       "  </tbody>\n",
       "</table>\n",
       "</div>"
      ],
      "text/plain": [
       "             GoalsScored  GoalsConceded\n",
       "Team                                   \n",
       "Brunei          1.285714       3.285714\n",
       "Cambodia        1.333333       2.166667\n",
       "East Timor      1.250000       3.375000\n",
       "Indonesia       2.285714       1.285714\n",
       "Laos            0.500000       3.833333\n",
       "Malaysia        1.700000       0.800000\n",
       "Myanmar         1.500000       1.500000\n",
       "Philippines     1.555556       1.666667\n",
       "Singapore       2.000000       1.400000\n",
       "Thailand        3.111111       0.777778\n",
       "Vietnam         2.333333       0.444444"
      ]
     },
     "execution_count": 79,
     "metadata": {},
     "output_type": "execute_result"
    }
   ],
   "source": [
    "team_strength = pd.concat([data_home, data_away], ignore_index=True).groupby('Team').mean()\n",
    "team_strength"
   ]
  },
  {
   "cell_type": "code",
   "execution_count": 80,
   "metadata": {},
   "outputs": [],
   "source": [
    "def predict_point(home, away):\n",
    "    if home in team_strength.index and away in team_strength.index:\n",
    "        lamb_home = team_strength.at[home, 'GoalsScored'] * team_strength.at[away, 'GoalsConceded']\n",
    "        lamb_away = team_strength.at[away, 'GoalsScored'] * team_strength.at[home, 'GoalsConceded']\n",
    "        prob_home, prob_away, prob_draw = 0, 0 , 0\n",
    "        for x in range(0,11): #number of goals home team\n",
    "            for y in range(0,11): #number of goals away team\n",
    "                p = poisson.pmf(x, lamb_home) * poisson.pmf(y, lamb_away)\n",
    "                if x == y:\n",
    "                    prob_draw += p\n",
    "                elif x > y:\n",
    "                    prob_home += p\n",
    "                else:\n",
    "                    prob_away += p\n",
    "        points_home = 3 * prob_home + prob_draw\n",
    "        points_away = 3 * prob_away + prob_draw\n",
    "        return[(points_home, points_away), (prob_home*100, prob_draw*100, prob_away*100)]\n",
    "    else:\n",
    "        return [(0,0), (prob_home*100, prob_draw*100, prob_away*100)]"
   ]
  },
  {
   "cell_type": "code",
   "execution_count": 81,
   "metadata": {},
   "outputs": [
    {
     "data": {
      "text/plain": [
       "[(2.586021026054972, 0.3051315646918386),\n",
       " (82.63122219358318, 10.708436024747654, 6.601573481478735)]"
      ]
     },
     "execution_count": 81,
     "metadata": {},
     "output_type": "execute_result"
    }
   ],
   "source": [
    "predict_point('Vietnam', 'Singapore')"
   ]
  },
  {
   "attachments": {},
   "cell_type": "markdown",
   "metadata": {},
   "source": [
    "Vietnam wins the match.\n",
    "Result: Viet Nam: 2.59 pts, Singapore: 0.31 pts\n"
   ]
  },
  {
   "attachments": {},
   "cell_type": "markdown",
   "metadata": {},
   "source": [
    "Vietnam win probability: Viet Nam: 82.63%, Draw: 10.71%, Singapore: 6.60%"
   ]
  }
 ],
 "metadata": {
  "kernelspec": {
   "display_name": "project1",
   "language": "python",
   "name": "python3"
  },
  "language_info": {
   "codemirror_mode": {
    "name": "ipython",
    "version": 3
   },
   "file_extension": ".py",
   "mimetype": "text/x-python",
   "name": "python",
   "nbconvert_exporter": "python",
   "pygments_lexer": "ipython3",
   "version": "3.10.8"
  },
  "orig_nbformat": 4,
  "vscode": {
   "interpreter": {
    "hash": "2615c8464a3abf969bc483e10f06104004fdafc47da0fc354a6da851d078735b"
   }
  }
 },
 "nbformat": 4,
 "nbformat_minor": 2
}
