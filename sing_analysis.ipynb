{
 "cells": [
  {
   "cell_type": "code",
   "execution_count": 2,
   "metadata": {},
   "outputs": [],
   "source": [
    "import pandas as pd \n",
    "import numpy as np\n",
    "import matplotlib.pyplot as plt\n",
    "data = pd.read_csv('World Football Results 2018 to 2022 - data.csv')"
   ]
  },
  {
   "cell_type": "code",
   "execution_count": null,
   "metadata": {},
   "outputs": [],
   "source": [
    "data.info()"
   ]
  },
  {
   "cell_type": "code",
   "execution_count": 3,
   "metadata": {},
   "outputs": [],
   "source": [
    "data = data.dropna(axis=1)"
   ]
  },
  {
   "cell_type": "code",
   "execution_count": 5,
   "metadata": {},
   "outputs": [
    {
     "data": {
      "text/plain": [
       "year          0\n",
       "date          0\n",
       "tournament    0\n",
       "h_team        0\n",
       "a_team        0\n",
       "h_elo         0\n",
       "a_elo         0\n",
       "h_score       0\n",
       "a_score       0\n",
       "location      0\n",
       "neutral       0\n",
       "dtype: int64"
      ]
     },
     "execution_count": 5,
     "metadata": {},
     "output_type": "execute_result"
    }
   ],
   "source": [
    "data.isnull().sum()"
   ]
  },
  {
   "cell_type": "code",
   "execution_count": 7,
   "metadata": {},
   "outputs": [],
   "source": [
    "singapore = data[(data['a_team'] == 'Singapore') | (data['h_team'] == 'Singapore')]"
   ]
  },
  {
   "cell_type": "code",
   "execution_count": 10,
   "metadata": {},
   "outputs": [
    {
     "data": {
      "text/plain": [
       "Friendly                             11\n",
       "World Cup and Asian Cup qualifier     7\n",
       "Friendly tournament                   6\n",
       "Southeast Asian Championship          5\n",
       "Asian Cup qualifier                   4\n",
       "Name: tournament, dtype: int64"
      ]
     },
     "execution_count": 10,
     "metadata": {},
     "output_type": "execute_result"
    }
   ],
   "source": [
    "singapore['tournament'].value_counts()"
   ]
  },
  {
   "cell_type": "code",
   "execution_count": 11,
   "metadata": {},
   "outputs": [
    {
     "data": {
      "text/plain": [
       "Singapore    16\n",
       "Name: a_team, dtype: int64"
      ]
     },
     "execution_count": 11,
     "metadata": {},
     "output_type": "execute_result"
    }
   ],
   "source": [
    "data[data['a_team'].str.contains('sing', case=False)]['a_team'].value_counts()"
   ]
  },
  {
   "cell_type": "code",
   "execution_count": 12,
   "metadata": {},
   "outputs": [
    {
     "data": {
      "text/plain": [
       "Singapore    17\n",
       "Name: h_team, dtype: int64"
      ]
     },
     "execution_count": 12,
     "metadata": {},
     "output_type": "execute_result"
    }
   ],
   "source": [
    "data[data['h_team'].str.contains('sing', case=False)]['h_team'].value_counts()"
   ]
  },
  {
   "cell_type": "code",
   "execution_count": 15,
   "metadata": {},
   "outputs": [
    {
     "data": {
      "text/html": [
       "<div>\n",
       "<style scoped>\n",
       "    .dataframe tbody tr th:only-of-type {\n",
       "        vertical-align: middle;\n",
       "    }\n",
       "\n",
       "    .dataframe tbody tr th {\n",
       "        vertical-align: top;\n",
       "    }\n",
       "\n",
       "    .dataframe thead th {\n",
       "        text-align: right;\n",
       "    }\n",
       "</style>\n",
       "<table border=\"1\" class=\"dataframe\">\n",
       "  <thead>\n",
       "    <tr style=\"text-align: right;\">\n",
       "      <th></th>\n",
       "      <th>year</th>\n",
       "      <th>date</th>\n",
       "      <th>tournament</th>\n",
       "      <th>h_team</th>\n",
       "      <th>a_team</th>\n",
       "      <th>h_elo</th>\n",
       "      <th>a_elo</th>\n",
       "      <th>h_score</th>\n",
       "      <th>a_score</th>\n",
       "      <th>location</th>\n",
       "      <th>neutral</th>\n",
       "    </tr>\n",
       "  </thead>\n",
       "  <tbody>\n",
       "    <tr>\n",
       "      <th>3316</th>\n",
       "      <td>2022</td>\n",
       "      <td>March 26</td>\n",
       "      <td>Friendly tournament</td>\n",
       "      <td>Singapore</td>\n",
       "      <td>Malaysia</td>\n",
       "      <td>1098</td>\n",
       "      <td>1166</td>\n",
       "      <td>2</td>\n",
       "      <td>1</td>\n",
       "      <td>in Singapore</td>\n",
       "      <td>No</td>\n",
       "    </tr>\n",
       "    <tr>\n",
       "      <th>3363</th>\n",
       "      <td>2022</td>\n",
       "      <td>March 29</td>\n",
       "      <td>Friendly tournament</td>\n",
       "      <td>Singapore</td>\n",
       "      <td>Philippines</td>\n",
       "      <td>1112</td>\n",
       "      <td>1108</td>\n",
       "      <td>2</td>\n",
       "      <td>0</td>\n",
       "      <td>in Singapore</td>\n",
       "      <td>No</td>\n",
       "    </tr>\n",
       "    <tr>\n",
       "      <th>3448</th>\n",
       "      <td>2022</td>\n",
       "      <td>June 1</td>\n",
       "      <td>Friendly</td>\n",
       "      <td>Kuwait</td>\n",
       "      <td>Singapore</td>\n",
       "      <td>1342</td>\n",
       "      <td>1128</td>\n",
       "      <td>2</td>\n",
       "      <td>0</td>\n",
       "      <td>in the United Arab Emirates</td>\n",
       "      <td>Yes</td>\n",
       "    </tr>\n",
       "    <tr>\n",
       "      <th>3582</th>\n",
       "      <td>2022</td>\n",
       "      <td>June 8</td>\n",
       "      <td>Asian Cup qualifier</td>\n",
       "      <td>Kyrgyzstan</td>\n",
       "      <td>Singapore</td>\n",
       "      <td>1257</td>\n",
       "      <td>1121</td>\n",
       "      <td>2</td>\n",
       "      <td>1</td>\n",
       "      <td>in Kyrgyzstan</td>\n",
       "      <td>No</td>\n",
       "    </tr>\n",
       "    <tr>\n",
       "      <th>3643</th>\n",
       "      <td>2022</td>\n",
       "      <td>June 11</td>\n",
       "      <td>Asian Cup qualifier</td>\n",
       "      <td>Tajikistan</td>\n",
       "      <td>Singapore</td>\n",
       "      <td>1289</td>\n",
       "      <td>1113</td>\n",
       "      <td>1</td>\n",
       "      <td>0</td>\n",
       "      <td>in Kyrgyzstan</td>\n",
       "      <td>Yes</td>\n",
       "    </tr>\n",
       "    <tr>\n",
       "      <th>3703</th>\n",
       "      <td>2022</td>\n",
       "      <td>June 14</td>\n",
       "      <td>Asian Cup qualifier</td>\n",
       "      <td>Singapore</td>\n",
       "      <td>Myanmar</td>\n",
       "      <td>1102</td>\n",
       "      <td>949</td>\n",
       "      <td>6</td>\n",
       "      <td>2</td>\n",
       "      <td>in Kyrgyzstan</td>\n",
       "      <td>Yes</td>\n",
       "    </tr>\n",
       "    <tr>\n",
       "      <th>3767</th>\n",
       "      <td>2022</td>\n",
       "      <td>September 21</td>\n",
       "      <td>Friendly tournament</td>\n",
       "      <td>Vietnam</td>\n",
       "      <td>Singapore</td>\n",
       "      <td>1374</td>\n",
       "      <td>1124</td>\n",
       "      <td>4</td>\n",
       "      <td>0</td>\n",
       "      <td>in Vietnam</td>\n",
       "      <td>No</td>\n",
       "    </tr>\n",
       "    <tr>\n",
       "      <th>3828</th>\n",
       "      <td>2022</td>\n",
       "      <td>September 24</td>\n",
       "      <td>Friendly tournament</td>\n",
       "      <td>India</td>\n",
       "      <td>Singapore</td>\n",
       "      <td>1232</td>\n",
       "      <td>1117</td>\n",
       "      <td>1</td>\n",
       "      <td>1</td>\n",
       "      <td>in Vietnam</td>\n",
       "      <td>Yes</td>\n",
       "    </tr>\n",
       "    <tr>\n",
       "      <th>4082</th>\n",
       "      <td>2022</td>\n",
       "      <td>December 17</td>\n",
       "      <td>Friendly</td>\n",
       "      <td>Singapore</td>\n",
       "      <td>Maldives</td>\n",
       "      <td>1122</td>\n",
       "      <td>932</td>\n",
       "      <td>3</td>\n",
       "      <td>1</td>\n",
       "      <td>in Singapore</td>\n",
       "      <td>No</td>\n",
       "    </tr>\n",
       "    <tr>\n",
       "      <th>4092</th>\n",
       "      <td>2022</td>\n",
       "      <td>December 24</td>\n",
       "      <td>Southeast Asian Championship</td>\n",
       "      <td>Singapore</td>\n",
       "      <td>Myanmar</td>\n",
       "      <td>1127</td>\n",
       "      <td>918</td>\n",
       "      <td>3</td>\n",
       "      <td>2</td>\n",
       "      <td>in Singapore</td>\n",
       "      <td>No</td>\n",
       "    </tr>\n",
       "  </tbody>\n",
       "</table>\n",
       "</div>"
      ],
      "text/plain": [
       "      year          date                    tournament      h_team  \\\n",
       "3316  2022      March 26           Friendly tournament   Singapore   \n",
       "3363  2022      March 29           Friendly tournament   Singapore   \n",
       "3448  2022        June 1                      Friendly      Kuwait   \n",
       "3582  2022        June 8           Asian Cup qualifier  Kyrgyzstan   \n",
       "3643  2022       June 11           Asian Cup qualifier  Tajikistan   \n",
       "3703  2022       June 14           Asian Cup qualifier   Singapore   \n",
       "3767  2022  September 21           Friendly tournament     Vietnam   \n",
       "3828  2022  September 24           Friendly tournament       India   \n",
       "4082  2022   December 17                      Friendly   Singapore   \n",
       "4092  2022   December 24  Southeast Asian Championship   Singapore   \n",
       "\n",
       "           a_team  h_elo  a_elo  h_score  a_score  \\\n",
       "3316     Malaysia   1098   1166        2        1   \n",
       "3363  Philippines   1112   1108        2        0   \n",
       "3448    Singapore   1342   1128        2        0   \n",
       "3582    Singapore   1257   1121        2        1   \n",
       "3643    Singapore   1289   1113        1        0   \n",
       "3703      Myanmar   1102    949        6        2   \n",
       "3767    Singapore   1374   1124        4        0   \n",
       "3828    Singapore   1232   1117        1        1   \n",
       "4082     Maldives   1122    932        3        1   \n",
       "4092      Myanmar   1127    918        3        2   \n",
       "\n",
       "                         location neutral  \n",
       "3316                 in Singapore      No  \n",
       "3363                 in Singapore      No  \n",
       "3448  in the United Arab Emirates     Yes  \n",
       "3582                in Kyrgyzstan      No  \n",
       "3643                in Kyrgyzstan     Yes  \n",
       "3703                in Kyrgyzstan     Yes  \n",
       "3767                   in Vietnam      No  \n",
       "3828                   in Vietnam     Yes  \n",
       "4082                 in Singapore      No  \n",
       "4092                 in Singapore      No  "
      ]
     },
     "execution_count": 15,
     "metadata": {},
     "output_type": "execute_result"
    }
   ],
   "source": [
    "singapore.tail(10)"
   ]
  },
  {
   "cell_type": "code",
   "execution_count": 16,
   "metadata": {},
   "outputs": [],
   "source": [
    "def winner(h_team, a_team, h_score, a_score):\n",
    "    if h_score > a_score:\n",
    "        return h_team\n",
    "    elif h_score == a_score:\n",
    "        return 'Draw'\n",
    "    else:\n",
    "        return a_team    "
   ]
  },
  {
   "cell_type": "code",
   "execution_count": 17,
   "metadata": {},
   "outputs": [
    {
     "name": "stderr",
     "output_type": "stream",
     "text": [
      "C:\\Users\\ADMIN\\AppData\\Local\\Temp\\ipykernel_23944\\3943953382.py:1: SettingWithCopyWarning: \n",
      "A value is trying to be set on a copy of a slice from a DataFrame.\n",
      "Try using .loc[row_indexer,col_indexer] = value instead\n",
      "\n",
      "See the caveats in the documentation: https://pandas.pydata.org/pandas-docs/stable/user_guide/indexing.html#returning-a-view-versus-a-copy\n",
      "  singapore['winner'] = singapore.apply(lambda x: winner(x['h_team'], x['a_team'], x['h_score'], x['a_score']), axis=1)\n"
     ]
    }
   ],
   "source": [
    "singapore['winner'] = singapore.apply(lambda x: winner(x['h_team'], x['a_team'], x['h_score'], x['a_score']), axis=1)"
   ]
  },
  {
   "cell_type": "code",
   "execution_count": 22,
   "metadata": {},
   "outputs": [
    {
     "data": {
      "text/plain": [
       "14"
      ]
     },
     "execution_count": 22,
     "metadata": {},
     "output_type": "execute_result"
    }
   ],
   "source": [
    "len(singapore[singapore['winner'] == 'Singapore'])"
   ]
  },
  {
   "cell_type": "code",
   "execution_count": 35,
   "metadata": {},
   "outputs": [
    {
     "data": {
      "text/plain": [
       "48"
      ]
     },
     "execution_count": 35,
     "metadata": {},
     "output_type": "execute_result"
    }
   ],
   "source": [
    "goals_away = singapore[singapore['a_team']=='Singapore']['a_score'].sum()\n",
    "goals_home = singapore[singapore['h_team']=='Singapore']['h_score'].sum()\n",
    "total_goals = goals_home + goals_away\n",
    "total_goals"
   ]
  }
 ],
 "metadata": {
  "kernelspec": {
   "display_name": "project1",
   "language": "python",
   "name": "python3"
  },
  "language_info": {
   "codemirror_mode": {
    "name": "ipython",
    "version": 3
   },
   "file_extension": ".py",
   "mimetype": "text/x-python",
   "name": "python",
   "nbconvert_exporter": "python",
   "pygments_lexer": "ipython3",
   "version": "3.10.8 | packaged by conda-forge | (main, Nov 24 2022, 14:07:00) [MSC v.1916 64 bit (AMD64)]"
  },
  "orig_nbformat": 4,
  "vscode": {
   "interpreter": {
    "hash": "2615c8464a3abf969bc483e10f06104004fdafc47da0fc354a6da851d078735b"
   }
  }
 },
 "nbformat": 4,
 "nbformat_minor": 2
}
